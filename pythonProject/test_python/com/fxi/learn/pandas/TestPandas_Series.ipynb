{
 "cells": [
  {
   "cell_type": "code",
   "execution_count": 1,
   "metadata": {},
   "outputs": [
    {
     "name": "stderr",
     "output_type": "stream",
     "text": [
      "/Users/seki/Library/Python/2.7/lib/python/site-packages/matplotlib/font_manager.py:273: UserWarning: Matplotlib is building the font cache using fc-list. This may take a moment.\n",
      "  warnings.warn('Matplotlib is building the font cache using fc-list. This may take a moment.')\n"
     ]
    },
    {
     "name": "stdout",
     "output_type": "stream",
     "text": [
      "Populating the interactive namespace from numpy and matplotlib\n"
     ]
    }
   ],
   "source": [
    "%pylab inline\n",
    "#10 Minutes to pandas\n",
    "import pandas as pd\n",
    "import numpy as np\n",
    "import matplotlib.pyplot as plt"
   ]
  },
  {
   "cell_type": "code",
   "execution_count": 4,
   "metadata": {},
   "outputs": [
    {
     "data": {
      "text/plain": [
       "'\\n    Series \\xe6\\x98\\xaf\\xe4\\xb8\\x80\\xe4\\xb8\\xaa\\xe4\\xb8\\x80\\xe7\\xbb\\xb4\\xe6\\x95\\xb0\\xe7\\xbb\\x84\\xe7\\xbb\\x93\\xe6\\x9e\\x84\\xe7\\x9a\\x84\\xef\\xbc\\x8c\\xe5\\x8f\\xaf\\xe4\\xbb\\xa5\\xe5\\xad\\x98\\xe5\\x85\\xa5\\xe4\\xbb\\xbb\\xe4\\xb8\\x80\\xe4\\xb8\\x80\\xe7\\xa7\\x8dpython\\xe7\\x9a\\x84\\xe6\\x95\\xb0\\xe6\\x8d\\xae\\xe7\\xb1\\xbb\\xe5\\x9e\\x8b(integers, strings, floating point numbers, Python objects, etc.)\\xe3\\x80\\x82\\n    \\n'"
      ]
     },
     "execution_count": 4,
     "output_type": "execute_result",
     "metadata": {}
    }
   ],
   "source": [
    "#pandas.Series\n",
    "#Series = index array + data array， 是一个有索引的一维数组结构的，可以存入任一一种python的数据类型(integers, strings, floating point numbers, Python objects, etc.)。\n",
    "#Series(data=None, index=None, dtype=None, name=None, copy=False, fastpath=False)\n",
    "'''\n",
    "data : \n",
    "    a Python dict\n",
    "    an ndarray\n",
    "    a scalar value (like 5)\n",
    "index : 一个数组，长度与data数组的长度相同，唯一并且可以hash,如果不提供，默认使用rangeIndex(len(data)),数据位置作为索引，dict和index seq \n",
    "dtype : numpy.dtype 或者NOne,自动推断\n",
    "copy :  默认false\n",
    "'''"
   ]
  },
  {
   "cell_type": "code",
   "execution_count": 5,
   "metadata": {},
   "outputs": [
    {
     "data": {
      "text/plain": [
       "0    2.393211\n",
       "1    0.692283\n",
       "2   -0.291716\n",
       "3    0.080890\n",
       "4   -0.588861\n",
       "dtype: float64"
      ]
     },
     "execution_count": 5,
     "output_type": "execute_result",
     "metadata": {}
    }
   ],
   "source": [
    "#1 from ndarray\n",
    "#如果data是ndarray类型，那么index的长度必须与data一样。如果index值缺省，整数链表[0,1,2,…,len(data)-1]将会被自动初始化为index。\n",
    "s = pd.Series(np.random.randn(5))\n",
    "s"
   ]
  },
  {
   "cell_type": "code",
   "execution_count": 9,
   "metadata": {},
   "outputs": [
    {
     "data": {
      "text/plain": [
       "a    1\n",
       "b    2\n",
       "c    3\n",
       "dtype: int64"
      ]
     },
     "execution_count": 9,
     "output_type": "execute_result",
     "metadata": {}
    }
   ],
   "source": [
    "#2 from dict\n",
    "#如果data是字典结构，index默认为字典中的key值。如果在创建时index被重新赋值，那么value将会与新建的index对应，如果index值不在字典的key值中，那么value将会被初始化为NaN。\n",
    "d = {'a':1,'b':2,'c':3}\n",
    "pd.Series(d)"
   ]
  },
  {
   "cell_type": "code",
   "execution_count": 11,
   "metadata": {},
   "outputs": [
    {
     "data": {
      "text/plain": [
       "a    5\n",
       "b    5\n",
       "c    5\n",
       "dtype: int64"
      ]
     },
     "execution_count": 11,
     "output_type": "execute_result",
     "metadata": {}
    }
   ],
   "source": [
    "#from scalar value\n",
    "#如果data是一个标量，index值必须被初始化，value值将会重复对应到每一个index。\n",
    "pd.Series(5,index=['a','b','c'])"
   ]
  },
  {
   "cell_type": "code",
   "execution_count": null,
   "metadata": {},
   "outputs": [],
   "source": [
    ""
   ]
  }
 ],
 "metadata": {
  "kernelspec": {
   "display_name": "Python 2",
   "language": "python",
   "name": "python2"
  },
  "language_info": {
   "codemirror_mode": {
    "name": "ipython",
    "version": 2.0
   },
   "file_extension": ".py",
   "mimetype": "text/x-python",
   "name": "python",
   "nbconvert_exporter": "python",
   "pygments_lexer": "ipython2",
   "version": "2.7.12"
  }
 },
 "nbformat": 4,
 "nbformat_minor": 2
}