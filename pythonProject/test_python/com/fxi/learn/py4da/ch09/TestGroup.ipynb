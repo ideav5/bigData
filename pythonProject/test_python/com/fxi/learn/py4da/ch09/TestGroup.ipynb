{
 "cells": [
  {
   "cell_type": "code",
   "execution_count": 1,
   "metadata": {},
   "outputs": [
    {
     "name": "stderr",
     "output_type": "stream",
     "text": [
      "/Users/seki/Library/Python/2.7/lib/python/site-packages/matplotlib/font_manager.py:273: UserWarning: Matplotlib is building the font cache using fc-list. This may take a moment.\n",
      "  warnings.warn('Matplotlib is building the font cache using fc-list. This may take a moment.')\n"
     ]
    },
    {
     "name": "stdout",
     "output_type": "stream",
     "text": [
      "Using matplotlib backend: MacOSX\n",
      "Populating the interactive namespace from numpy and matplotlib\n"
     ]
    }
   ],
   "source": [
    "%pylab\n",
    "from pandas import DataFrame,Series\n",
    "import pandas as pd"
   ]
  },
  {
   "cell_type": "code",
   "execution_count": 2,
   "metadata": {},
   "outputs": [
    {
     "data": {
      "text/html": [
       "<div>\n",
       "<table border=\"1\" class=\"dataframe\">\n",
       "  <thead>\n",
       "    <tr style=\"text-align: right;\">\n",
       "      <th></th>\n",
       "      <th>d1</th>\n",
       "      <th>d2</th>\n",
       "      <th>k1</th>\n",
       "      <th>k2</th>\n",
       "    </tr>\n",
       "  </thead>\n",
       "  <tbody>\n",
       "    <tr>\n",
       "      <th>0</th>\n",
       "      <td>-1.047063</td>\n",
       "      <td>-1.674115</td>\n",
       "      <td>a</td>\n",
       "      <td>one</td>\n",
       "    </tr>\n",
       "    <tr>\n",
       "      <th>1</th>\n",
       "      <td>-0.584630</td>\n",
       "      <td>-0.461012</td>\n",
       "      <td>a</td>\n",
       "      <td>two</td>\n",
       "    </tr>\n",
       "    <tr>\n",
       "      <th>2</th>\n",
       "      <td>-0.539800</td>\n",
       "      <td>2.886309</td>\n",
       "      <td>b</td>\n",
       "      <td>one</td>\n",
       "    </tr>\n",
       "    <tr>\n",
       "      <th>3</th>\n",
       "      <td>-0.300802</td>\n",
       "      <td>-0.940316</td>\n",
       "      <td>b</td>\n",
       "      <td>two</td>\n",
       "    </tr>\n",
       "    <tr>\n",
       "      <th>4</th>\n",
       "      <td>1.493127</td>\n",
       "      <td>-0.921326</td>\n",
       "      <td>a</td>\n",
       "      <td>one</td>\n",
       "    </tr>\n",
       "  </tbody>\n",
       "</table>\n",
       "</div>"
      ]
     },
     "output_type": "execute_result",
     "metadata": {}
    }
   ],
   "source": [
    "df = DataFrame({'k1':['a','a','b','b','a'],'k2':['one','two','one','two','one'],'d1':np.random.randn(5),'d2':np.random.randn(5)})\n",
    "df"
   ]
  },
  {
   "cell_type": "code",
   "execution_count": 3,
   "metadata": {},
   "outputs": [
    {
     "data": {
      "text/plain": [
       "k1\n",
       "a   -0.046188\n",
       "b   -0.420301\n",
       "Name: d1, dtype: float64"
      ]
     },
     "execution_count": 3,
     "output_type": "execute_result",
     "metadata": {}
    }
   ],
   "source": [
    "grouped = df['d1'].groupby(df['k1'])\n",
    "grouped.mean()"
   ]
  },
  {
   "cell_type": "code",
   "execution_count": 4,
   "metadata": {},
   "outputs": [
    {
     "data": {
      "text/plain": [
       "k1  k2 \n",
       "a   one    0.223032\n",
       "    two   -0.584630\n",
       "b   one   -0.539800\n",
       "    two   -0.300802\n",
       "Name: d1, dtype: float64"
      ]
     },
     "execution_count": 4,
     "output_type": "execute_result",
     "metadata": {}
    }
   ],
   "source": [
    "df['d1'].groupby([df['k1'],df['k2']]).mean()"
   ]
  },
  {
   "cell_type": "code",
   "execution_count": 5,
   "metadata": {},
   "outputs": [
    {
     "name": "stdout",
     "output_type": "stream",
     "text": [
      "a\n",
      "         d1        d2 k1   k2\n",
      "0 -1.047063 -1.674115  a  one\n",
      "1 -0.584630 -0.461012  a  two\n",
      "4  1.493127 -0.921326  a  one\n",
      "b\n",
      "         d1        d2 k1   k2\n",
      "2 -0.539800  2.886309  b  one\n",
      "3 -0.300802 -0.940316  b  two\n"
     ]
    },
    {
     "data": {
      "text/plain": [
       "d1    float64\n",
       "d2    float64\n",
       "k1     object\n",
       "k2     object\n",
       "dtype: object"
      ]
     },
     "execution_count": 5,
     "output_type": "execute_result",
     "metadata": {}
    }
   ],
   "source": [
    "for name,group in df.groupby('k1'):\n",
    "    print name\n",
    "    print group\n",
    "df.dtypes"
   ]
  },
  {
   "cell_type": "code",
   "execution_count": 6,
   "metadata": {},
   "outputs": [
    {
     "data": {
      "text/plain": [
       "{dtype('float64'):          d1        d2\n",
       " 0 -1.047063 -1.674115\n",
       " 1 -0.584630 -0.461012\n",
       " 2 -0.539800  2.886309\n",
       " 3 -0.300802 -0.940316\n",
       " 4  1.493127 -0.921326, dtype('O'):   k1   k2\n",
       " 0  a  one\n",
       " 1  a  two\n",
       " 2  b  one\n",
       " 3  b  two\n",
       " 4  a  one}"
      ]
     },
     "execution_count": 6,
     "output_type": "execute_result",
     "metadata": {}
    }
   ],
   "source": [
    "grouped = df.groupby(df.dtypes,axis=1)\n",
    "dict(list(grouped))"
   ]
  },
  {
   "cell_type": "code",
   "execution_count": 7,
   "metadata": {},
   "outputs": [
    {
     "data": {
      "text/plain": [
       "0     (-0.146, 1.262]\n",
       "1    (-1.555, -0.146]\n",
       "2    (-1.555, -0.146]\n",
       "Name: d1, dtype: category\n",
       "Categories (4, object): [(-2.97, -1.555] < (-1.555, -0.146] < (-0.146, 1.262] < (1.262, 2.671]]"
      ]
     },
     "execution_count": 7,
     "output_type": "execute_result",
     "metadata": {}
    }
   ],
   "source": [
    "frame = DataFrame({'d1':np.random.randn(1000),'d2':np.random.randn(1000)})\n",
    "factor = pd.cut(frame.d1,4)\n",
    "factor[:3]"
   ]
  },
  {
   "cell_type": "code",
   "execution_count": null,
   "metadata": {},
   "outputs": [],
   "source": [
    ""
   ]
  },
  {
   "cell_type": "code",
   "execution_count": null,
   "metadata": {},
   "outputs": [],
   "source": [
    ""
   ]
  }
 ],
 "metadata": {
  "kernelspec": {
   "display_name": "Python 2",
   "language": "python",
   "name": "python2"
  },
  "language_info": {
   "codemirror_mode": {
    "name": "ipython",
    "version": 2.0
   },
   "file_extension": ".py",
   "mimetype": "text/x-python",
   "name": "python",
   "nbconvert_exporter": "python",
   "pygments_lexer": "ipython2",
   "version": "2.7.12"
  }
 },
 "nbformat": 4,
 "nbformat_minor": 2
}